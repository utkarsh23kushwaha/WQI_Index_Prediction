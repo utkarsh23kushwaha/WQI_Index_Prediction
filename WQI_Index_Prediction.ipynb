{
 "cells": [
  {
   "cell_type": "markdown",
   "metadata": {},
   "source": [
    "# Minor Project:  Water Quality Prediction\n",
    "## B.Tech 3rd Year (CHE) \n",
    "## Roll No. 19112104\n",
    "### "
   ]
  },
  {
   "cell_type": "code",
   "execution_count": 1,
   "metadata": {
    "_cell_guid": "b1076dfc-b9ad-4769-8c92-a6c4dae69d19",
    "_uuid": "8f2839f25d086af736a60e9eeb907d3b93b6e0e5"
   },
   "outputs": [],
   "source": [
    "import numpy as np\n",
    "import pandas as pd \n",
    "import seaborn as sb\n",
    "#importing numpy and pandas to read the dataset and perform mathematical operations on the dataset, using these python libraries.\n"
   ]
  },
  {
   "cell_type": "code",
   "execution_count": 2,
   "metadata": {
    "_cell_guid": "79c7e3d0-c299-4dcb-8224-4455121ee9b0",
    "_kg_hide-input": true,
    "_uuid": "d629ff2d2480ee46fbb7e2d37f6b5fab8052498a"
   },
   "outputs": [],
   "source": [
    "data=pd.read_csv(r\"C:\\Users\\asus\\Desktop\\DA\\water_dataX (1).csv\",encoding=\"ISO-8859-1\")\n",
    "\n",
    "\n"
   ]
  },
  {
   "cell_type": "code",
   "execution_count": 3,
   "metadata": {},
   "outputs": [],
   "source": [
    "data= data.replace(r'^\\s*$', np.nan, regex=True)\n",
    "#this replaces every blank value in the dataset with NaN"
   ]
  },
  {
   "cell_type": "code",
   "execution_count": 4,
   "metadata": {},
   "outputs": [],
   "source": [
    "new_data=data.copy()"
   ]
  },
  {
   "cell_type": "code",
   "execution_count": 5,
   "metadata": {
    "_uuid": "f2fa8c8216c8a43293bac6a54ba1b268d7df72ec",
    "scrolled": false
   },
   "outputs": [
    {
     "data": {
      "text/plain": [
       "STATION CODE                        object\n",
       "LOCATIONS                           object\n",
       "STATE                               object\n",
       "Temp                                object\n",
       "D.O. (mg/l)                         object\n",
       "PH                                  object\n",
       "CONDUCTIVITY (µmhos/cm)             object\n",
       "B.O.D. (mg/l)                       object\n",
       "NITRATENAN N+ NITRITENANN (mg/l)    object\n",
       "FECAL COLIFORM (MPN/100ml)          object\n",
       "TOTAL COLIFORM (MPN/100ml)Mean      object\n",
       "year                                 int64\n",
       "dtype: object"
      ]
     },
     "execution_count": 5,
     "metadata": {},
     "output_type": "execute_result"
    }
   ],
   "source": [
    "new_data.dtypes"
   ]
  },
  {
   "cell_type": "markdown",
   "metadata": {},
   "source": [
    "# Data Pre-Processing\n",
    "1. \"pd.to_numeric\" converts any arguemnt passed through it into numeric data type,either float64 or int64 depending on the type of data supplied.\n",
    "\n",
    "2. This step is important as it will convert all the type of data in the dataset into numeric dtype and then mathematical operations can be performed on it.\n",
    "\n",
    "3. errors= 'coerce', will convert any invalid entry into NaN value."
   ]
  },
  {
   "cell_type": "code",
   "execution_count": 6,
   "metadata": {
    "_uuid": "85fd6c55da7ba22c20a28000d90cb7d09c847e92",
    "scrolled": true
   },
   "outputs": [
    {
     "data": {
      "text/plain": [
       "STATION CODE                         object\n",
       "LOCATIONS                            object\n",
       "STATE                                object\n",
       "Temp                                float64\n",
       "D.O. (mg/l)                         float64\n",
       "PH                                  float64\n",
       "CONDUCTIVITY (µmhos/cm)             float64\n",
       "B.O.D. (mg/l)                       float64\n",
       "NITRATENAN N+ NITRITENANN (mg/l)    float64\n",
       "FECAL COLIFORM (MPN/100ml)           object\n",
       "TOTAL COLIFORM (MPN/100ml)Mean      float64\n",
       "year                                  int64\n",
       "dtype: object"
      ]
     },
     "execution_count": 6,
     "metadata": {},
     "output_type": "execute_result"
    }
   ],
   "source": [
    "#CONVERSIONS\n",
    "\n",
    "new_data['Temp']=pd.to_numeric(new_data['Temp'],errors='coerce')\n",
    "new_data['D.O. (mg/l)']=pd.to_numeric(new_data['D.O. (mg/l)'],errors='coerce')\n",
    "new_data['PH']=pd.to_numeric(new_data['PH'],errors='coerce')\n",
    "new_data['B.O.D. (mg/l)']=pd.to_numeric(new_data['B.O.D. (mg/l)'],errors='coerce')\n",
    "new_data['CONDUCTIVITY (µmhos/cm)']=pd.to_numeric(new_data['CONDUCTIVITY (µmhos/cm)'],errors='coerce')\n",
    "new_data['NITRATENAN N+ NITRITENANN (mg/l)']=pd.to_numeric(new_data['NITRATENAN N+ NITRITENANN (mg/l)'],errors='coerce')\n",
    "new_data['TOTAL COLIFORM (MPN/100ml)Mean']=pd.to_numeric(new_data['TOTAL COLIFORM (MPN/100ml)Mean'],errors='coerce')\n",
    "new_data.dtypes"
   ]
  },
  {
   "cell_type": "markdown",
   "metadata": {},
   "source": [
    "#  Taking an overview of the given dataset.\n",
    "\n",
    "1. describe() function is used to find out an overall summary of the data, like mean value, minimum and maximum etc of any givem parameter.\n",
    "2. This is helpful in checking for any major inconsistencies in the dataset.\n",
    "3. For example in this case, mean pH value is 67115, which is absurd as pH ranges from 0 to 14, this means we need to fix these inconsistencies in the pH column.\n",
    "4. Also if we see closely for year 2003, all the entries except Temp is either 0.00 or very low than normal so we'll drop this row as well."
   ]
  },
  {
   "cell_type": "code",
   "execution_count": 7,
   "metadata": {},
   "outputs": [
    {
     "data": {
      "text/html": [
       "<div>\n",
       "<style scoped>\n",
       "    .dataframe tbody tr th:only-of-type {\n",
       "        vertical-align: middle;\n",
       "    }\n",
       "\n",
       "    .dataframe tbody tr th {\n",
       "        vertical-align: top;\n",
       "    }\n",
       "\n",
       "    .dataframe thead th {\n",
       "        text-align: right;\n",
       "    }\n",
       "</style>\n",
       "<table border=\"1\" class=\"dataframe\">\n",
       "  <thead>\n",
       "    <tr style=\"text-align: right;\">\n",
       "      <th></th>\n",
       "      <th>Temp</th>\n",
       "      <th>D.O. (mg/l)</th>\n",
       "      <th>PH</th>\n",
       "      <th>CONDUCTIVITY (µmhos/cm)</th>\n",
       "      <th>B.O.D. (mg/l)</th>\n",
       "      <th>NITRATENAN N+ NITRITENANN (mg/l)</th>\n",
       "      <th>TOTAL COLIFORM (MPN/100ml)Mean</th>\n",
       "      <th>year</th>\n",
       "    </tr>\n",
       "  </thead>\n",
       "  <tbody>\n",
       "    <tr>\n",
       "      <th>count</th>\n",
       "      <td>1899.000000</td>\n",
       "      <td>1960.000000</td>\n",
       "      <td>1983.000000</td>\n",
       "      <td>1966.000000</td>\n",
       "      <td>1948.000000</td>\n",
       "      <td>1766.000000</td>\n",
       "      <td>1.859000e+03</td>\n",
       "      <td>1991.000000</td>\n",
       "    </tr>\n",
       "    <tr>\n",
       "      <th>mean</th>\n",
       "      <td>26.209814</td>\n",
       "      <td>6.392637</td>\n",
       "      <td>112.090674</td>\n",
       "      <td>1786.466394</td>\n",
       "      <td>6.940049</td>\n",
       "      <td>1.623079</td>\n",
       "      <td>5.336872e+05</td>\n",
       "      <td>2010.038172</td>\n",
       "    </tr>\n",
       "    <tr>\n",
       "      <th>std</th>\n",
       "      <td>3.366388</td>\n",
       "      <td>1.332938</td>\n",
       "      <td>1878.930716</td>\n",
       "      <td>5552.276223</td>\n",
       "      <td>29.400026</td>\n",
       "      <td>4.090481</td>\n",
       "      <td>1.423428e+07</td>\n",
       "      <td>3.057333</td>\n",
       "    </tr>\n",
       "    <tr>\n",
       "      <th>min</th>\n",
       "      <td>10.000000</td>\n",
       "      <td>0.000000</td>\n",
       "      <td>0.000000</td>\n",
       "      <td>0.400000</td>\n",
       "      <td>0.100000</td>\n",
       "      <td>0.000000</td>\n",
       "      <td>0.000000e+00</td>\n",
       "      <td>2003.000000</td>\n",
       "    </tr>\n",
       "    <tr>\n",
       "      <th>25%</th>\n",
       "      <td>24.750000</td>\n",
       "      <td>5.900000</td>\n",
       "      <td>6.900000</td>\n",
       "      <td>78.000000</td>\n",
       "      <td>1.200000</td>\n",
       "      <td>0.240000</td>\n",
       "      <td>1.060000e+02</td>\n",
       "      <td>2008.000000</td>\n",
       "    </tr>\n",
       "    <tr>\n",
       "      <th>50%</th>\n",
       "      <td>27.000000</td>\n",
       "      <td>6.700000</td>\n",
       "      <td>7.300000</td>\n",
       "      <td>183.000000</td>\n",
       "      <td>1.896500</td>\n",
       "      <td>0.516000</td>\n",
       "      <td>4.680000e+02</td>\n",
       "      <td>2011.000000</td>\n",
       "    </tr>\n",
       "    <tr>\n",
       "      <th>75%</th>\n",
       "      <td>28.400000</td>\n",
       "      <td>7.200000</td>\n",
       "      <td>7.700000</td>\n",
       "      <td>592.750000</td>\n",
       "      <td>3.600000</td>\n",
       "      <td>1.500000</td>\n",
       "      <td>1.919000e+03</td>\n",
       "      <td>2013.000000</td>\n",
       "    </tr>\n",
       "    <tr>\n",
       "      <th>max</th>\n",
       "      <td>35.000000</td>\n",
       "      <td>11.400000</td>\n",
       "      <td>67115.000000</td>\n",
       "      <td>65700.000000</td>\n",
       "      <td>534.500000</td>\n",
       "      <td>108.700000</td>\n",
       "      <td>5.110909e+08</td>\n",
       "      <td>2014.000000</td>\n",
       "    </tr>\n",
       "  </tbody>\n",
       "</table>\n",
       "</div>"
      ],
      "text/plain": [
       "              Temp  D.O. (mg/l)            PH  CONDUCTIVITY (µmhos/cm)  \\\n",
       "count  1899.000000  1960.000000   1983.000000              1966.000000   \n",
       "mean     26.209814     6.392637    112.090674              1786.466394   \n",
       "std       3.366388     1.332938   1878.930716              5552.276223   \n",
       "min      10.000000     0.000000      0.000000                 0.400000   \n",
       "25%      24.750000     5.900000      6.900000                78.000000   \n",
       "50%      27.000000     6.700000      7.300000               183.000000   \n",
       "75%      28.400000     7.200000      7.700000               592.750000   \n",
       "max      35.000000    11.400000  67115.000000             65700.000000   \n",
       "\n",
       "       B.O.D. (mg/l)  NITRATENAN N+ NITRITENANN (mg/l)  \\\n",
       "count    1948.000000                       1766.000000   \n",
       "mean        6.940049                          1.623079   \n",
       "std        29.400026                          4.090481   \n",
       "min         0.100000                          0.000000   \n",
       "25%         1.200000                          0.240000   \n",
       "50%         1.896500                          0.516000   \n",
       "75%         3.600000                          1.500000   \n",
       "max       534.500000                        108.700000   \n",
       "\n",
       "       TOTAL COLIFORM (MPN/100ml)Mean         year  \n",
       "count                    1.859000e+03  1991.000000  \n",
       "mean                     5.336872e+05  2010.038172  \n",
       "std                      1.423428e+07     3.057333  \n",
       "min                      0.000000e+00  2003.000000  \n",
       "25%                      1.060000e+02  2008.000000  \n",
       "50%                      4.680000e+02  2011.000000  \n",
       "75%                      1.919000e+03  2013.000000  \n",
       "max                      5.110909e+08  2014.000000  "
      ]
     },
     "execution_count": 7,
     "metadata": {},
     "output_type": "execute_result"
    }
   ],
   "source": [
    "new_data.describe()"
   ]
  },
  {
   "cell_type": "code",
   "execution_count": 8,
   "metadata": {},
   "outputs": [],
   "source": [
    "#In this step we will remove all the rows where ph>14 or pH<0.\n",
    "new_data.drop(new_data[new_data.PH>14].index, inplace=True)\n",
    "new_data.drop(new_data[new_data.PH<0].index, inplace=True)\n",
    "new_data.drop(new_data[new_data.year==2003].index, inplace=True)"
   ]
  },
  {
   "cell_type": "markdown",
   "metadata": {},
   "source": [
    "# Data Pre-Processing\n",
    "\n",
    "1. Next step is done to store the data of different columns from the current dataframe into some different variables.\n",
    "2. Reason behind doing this is the ease in performing operations on data, using some easy-to-call variable than their current names and eliminating unnecessary variables.\n",
    "3. Making data ready for analysis."
   ]
  },
  {
   "cell_type": "code",
   "execution_count": 9,
   "metadata": {
    "_uuid": "c528533407224af3b7dcbc5d395260281aef2777",
    "scrolled": true
   },
   "outputs": [
    {
     "data": {
      "text/plain": [
       "dtype('float64')"
      ]
     },
     "execution_count": 9,
     "metadata": {},
     "output_type": "execute_result"
    }
   ],
   "source": [
    "#initialization\n",
    "#This is step is basically for storing the data in some other variables, in order to perform required mathematical operations and store result separately.\n",
    "\n",
    "start=0\n",
    "end=1990\n",
    "\n",
    "station=new_data.iloc [start:end ,0]\n",
    "\n",
    "location=new_data.iloc [start:end ,1]\n",
    "\n",
    "state=new_data.iloc [start:end ,2]\n",
    "\n",
    "do= new_data.iloc [start:end ,4].astype(np.float64)\n",
    "value=0\n",
    "\n",
    "ph = new_data.iloc[ start:end,5]  \n",
    "\n",
    "co = new_data.iloc [start:end ,6].astype(np.float64)   \n",
    "  \n",
    "year= new_data.iloc[start:end,11]\n",
    "\n",
    "tc= new_data.iloc [start:end ,10].astype(np.float64)\n",
    "\n",
    "bod = new_data.iloc [start:end ,7].astype(np.float64)\n",
    "\n",
    "na= new_data.iloc [start:end ,8].astype(np.float64)\n",
    "\n",
    "na.dtype\n"
   ]
  },
  {
   "cell_type": "code",
   "execution_count": 10,
   "metadata": {
    "_uuid": "e13694edb7e69821a3a1bc790644585aabd6f3cf"
   },
   "outputs": [],
   "source": [
    "new_data=pd.concat([station,location,state,do,ph,co,bod,na,tc,year],axis=1)\n",
    "new_data.columns = ['station','location','state','do','ph','co','bod','na','tc','year']"
   ]
  },
  {
   "cell_type": "code",
   "execution_count": 11,
   "metadata": {},
   "outputs": [
    {
     "data": {
      "text/html": [
       "<div>\n",
       "<style scoped>\n",
       "    .dataframe tbody tr th:only-of-type {\n",
       "        vertical-align: middle;\n",
       "    }\n",
       "\n",
       "    .dataframe tbody tr th {\n",
       "        vertical-align: top;\n",
       "    }\n",
       "\n",
       "    .dataframe thead th {\n",
       "        text-align: right;\n",
       "    }\n",
       "</style>\n",
       "<table border=\"1\" class=\"dataframe\">\n",
       "  <thead>\n",
       "    <tr style=\"text-align: right;\">\n",
       "      <th></th>\n",
       "      <th>station</th>\n",
       "      <th>location</th>\n",
       "      <th>state</th>\n",
       "      <th>do</th>\n",
       "      <th>ph</th>\n",
       "      <th>co</th>\n",
       "      <th>bod</th>\n",
       "      <th>na</th>\n",
       "      <th>tc</th>\n",
       "      <th>year</th>\n",
       "    </tr>\n",
       "  </thead>\n",
       "  <tbody>\n",
       "    <tr>\n",
       "      <th>0</th>\n",
       "      <td>1393</td>\n",
       "      <td>DAMANGANGA AT D/S OF MADHUBAN, DAMAN</td>\n",
       "      <td>DAMAN &amp; DIU</td>\n",
       "      <td>6.7</td>\n",
       "      <td>7.50</td>\n",
       "      <td>203.0</td>\n",
       "      <td>NaN</td>\n",
       "      <td>0.100</td>\n",
       "      <td>27.0</td>\n",
       "      <td>2014</td>\n",
       "    </tr>\n",
       "    <tr>\n",
       "      <th>1</th>\n",
       "      <td>1399</td>\n",
       "      <td>ZUARI AT D/S OF PT. WHERE KUMBARJRIA CANAL JOI...</td>\n",
       "      <td>GOA</td>\n",
       "      <td>5.7</td>\n",
       "      <td>7.20</td>\n",
       "      <td>189.0</td>\n",
       "      <td>2.000</td>\n",
       "      <td>0.200</td>\n",
       "      <td>8391.0</td>\n",
       "      <td>2014</td>\n",
       "    </tr>\n",
       "    <tr>\n",
       "      <th>2</th>\n",
       "      <td>1475</td>\n",
       "      <td>ZUARI AT PANCHAWADI</td>\n",
       "      <td>GOA</td>\n",
       "      <td>6.3</td>\n",
       "      <td>6.90</td>\n",
       "      <td>179.0</td>\n",
       "      <td>1.700</td>\n",
       "      <td>0.100</td>\n",
       "      <td>5330.0</td>\n",
       "      <td>2014</td>\n",
       "    </tr>\n",
       "    <tr>\n",
       "      <th>3</th>\n",
       "      <td>3181</td>\n",
       "      <td>RIVER ZUARI AT BORIM BRIDGE</td>\n",
       "      <td>GOA</td>\n",
       "      <td>5.8</td>\n",
       "      <td>6.90</td>\n",
       "      <td>64.0</td>\n",
       "      <td>3.800</td>\n",
       "      <td>0.500</td>\n",
       "      <td>8443.0</td>\n",
       "      <td>2014</td>\n",
       "    </tr>\n",
       "    <tr>\n",
       "      <th>4</th>\n",
       "      <td>3182</td>\n",
       "      <td>RIVER ZUARI AT MARCAIM JETTY</td>\n",
       "      <td>GOA</td>\n",
       "      <td>5.8</td>\n",
       "      <td>7.30</td>\n",
       "      <td>83.0</td>\n",
       "      <td>1.900</td>\n",
       "      <td>0.400</td>\n",
       "      <td>5500.0</td>\n",
       "      <td>2014</td>\n",
       "    </tr>\n",
       "    <tr>\n",
       "      <th>...</th>\n",
       "      <td>...</td>\n",
       "      <td>...</td>\n",
       "      <td>...</td>\n",
       "      <td>...</td>\n",
       "      <td>...</td>\n",
       "      <td>...</td>\n",
       "      <td>...</td>\n",
       "      <td>...</td>\n",
       "      <td>...</td>\n",
       "      <td>...</td>\n",
       "    </tr>\n",
       "    <tr>\n",
       "      <th>1896</th>\n",
       "      <td>NAN</td>\n",
       "      <td>TAMBIRAPARANI AT ARUMUGANERI, TAMILNADU</td>\n",
       "      <td>NAN</td>\n",
       "      <td>6.6</td>\n",
       "      <td>7.81</td>\n",
       "      <td>603.2</td>\n",
       "      <td>2.675</td>\n",
       "      <td>0.263</td>\n",
       "      <td>191.0</td>\n",
       "      <td>2005</td>\n",
       "    </tr>\n",
       "    <tr>\n",
       "      <th>1897</th>\n",
       "      <td>NAN</td>\n",
       "      <td>PALAR AT VANIYAMBADI WATER SUPPLY HEAD WORK, T...</td>\n",
       "      <td>NAN</td>\n",
       "      <td>6.6</td>\n",
       "      <td>7.49</td>\n",
       "      <td>571.5</td>\n",
       "      <td>2.091</td>\n",
       "      <td>0.256</td>\n",
       "      <td>273.0</td>\n",
       "      <td>2005</td>\n",
       "    </tr>\n",
       "    <tr>\n",
       "      <th>1898</th>\n",
       "      <td>NAN</td>\n",
       "      <td>GUMTI AT U/S SOUTH TRIPURA,TRIPURA</td>\n",
       "      <td>NAN</td>\n",
       "      <td>5.4</td>\n",
       "      <td>7.16</td>\n",
       "      <td>75.8</td>\n",
       "      <td>2.092</td>\n",
       "      <td>NaN</td>\n",
       "      <td>513.0</td>\n",
       "      <td>2005</td>\n",
       "    </tr>\n",
       "    <tr>\n",
       "      <th>1899</th>\n",
       "      <td>NAN</td>\n",
       "      <td>GUMTI AT D/S SOUTH TRIPURA, TRIPURA</td>\n",
       "      <td>NAN</td>\n",
       "      <td>5.4</td>\n",
       "      <td>7.37</td>\n",
       "      <td>104.8</td>\n",
       "      <td>1.802</td>\n",
       "      <td>0.215</td>\n",
       "      <td>557.0</td>\n",
       "      <td>2005</td>\n",
       "    </tr>\n",
       "    <tr>\n",
       "      <th>1900</th>\n",
       "      <td>NAN</td>\n",
       "      <td>CHANDRAPUR, AGARTALA D/S OF HAORA RIVER, TRIPURA</td>\n",
       "      <td>NAN</td>\n",
       "      <td>5.3</td>\n",
       "      <td>7.37</td>\n",
       "      <td>102.2</td>\n",
       "      <td>2.552</td>\n",
       "      <td>0.202</td>\n",
       "      <td>583.0</td>\n",
       "      <td>2005</td>\n",
       "    </tr>\n",
       "  </tbody>\n",
       "</table>\n",
       "<p>1901 rows × 10 columns</p>\n",
       "</div>"
      ],
      "text/plain": [
       "     station                                           location        state  \\\n",
       "0       1393               DAMANGANGA AT D/S OF MADHUBAN, DAMAN  DAMAN & DIU   \n",
       "1       1399  ZUARI AT D/S OF PT. WHERE KUMBARJRIA CANAL JOI...          GOA   \n",
       "2       1475                                ZUARI AT PANCHAWADI          GOA   \n",
       "3       3181                        RIVER ZUARI AT BORIM BRIDGE          GOA   \n",
       "4       3182                       RIVER ZUARI AT MARCAIM JETTY          GOA   \n",
       "...      ...                                                ...          ...   \n",
       "1896     NAN            TAMBIRAPARANI AT ARUMUGANERI, TAMILNADU          NAN   \n",
       "1897     NAN  PALAR AT VANIYAMBADI WATER SUPPLY HEAD WORK, T...          NAN   \n",
       "1898     NAN                 GUMTI AT U/S SOUTH TRIPURA,TRIPURA          NAN   \n",
       "1899     NAN                GUMTI AT D/S SOUTH TRIPURA, TRIPURA          NAN   \n",
       "1900     NAN   CHANDRAPUR, AGARTALA D/S OF HAORA RIVER, TRIPURA          NAN   \n",
       "\n",
       "       do    ph     co    bod     na      tc  year  \n",
       "0     6.7  7.50  203.0    NaN  0.100    27.0  2014  \n",
       "1     5.7  7.20  189.0  2.000  0.200  8391.0  2014  \n",
       "2     6.3  6.90  179.0  1.700  0.100  5330.0  2014  \n",
       "3     5.8  6.90   64.0  3.800  0.500  8443.0  2014  \n",
       "4     5.8  7.30   83.0  1.900  0.400  5500.0  2014  \n",
       "...   ...   ...    ...    ...    ...     ...   ...  \n",
       "1896  6.6  7.81  603.2  2.675  0.263   191.0  2005  \n",
       "1897  6.6  7.49  571.5  2.091  0.256   273.0  2005  \n",
       "1898  5.4  7.16   75.8  2.092    NaN   513.0  2005  \n",
       "1899  5.4  7.37  104.8  1.802  0.215   557.0  2005  \n",
       "1900  5.3  7.37  102.2  2.552  0.202   583.0  2005  \n",
       "\n",
       "[1901 rows x 10 columns]"
      ]
     },
     "execution_count": 11,
     "metadata": {},
     "output_type": "execute_result"
    }
   ],
   "source": [
    "new_data"
   ]
  },
  {
   "cell_type": "code",
   "execution_count": 12,
   "metadata": {
    "scrolled": false
   },
   "outputs": [
    {
     "data": {
      "text/html": [
       "<div>\n",
       "<style scoped>\n",
       "    .dataframe tbody tr th:only-of-type {\n",
       "        vertical-align: middle;\n",
       "    }\n",
       "\n",
       "    .dataframe tbody tr th {\n",
       "        vertical-align: top;\n",
       "    }\n",
       "\n",
       "    .dataframe thead th {\n",
       "        text-align: right;\n",
       "    }\n",
       "</style>\n",
       "<table border=\"1\" class=\"dataframe\">\n",
       "  <thead>\n",
       "    <tr style=\"text-align: right;\">\n",
       "      <th></th>\n",
       "      <th>do</th>\n",
       "      <th>ph</th>\n",
       "      <th>co</th>\n",
       "      <th>bod</th>\n",
       "      <th>na</th>\n",
       "      <th>tc</th>\n",
       "      <th>year</th>\n",
       "    </tr>\n",
       "  </thead>\n",
       "  <tbody>\n",
       "    <tr>\n",
       "      <th>count</th>\n",
       "      <td>1871.000000</td>\n",
       "      <td>1894.000000</td>\n",
       "      <td>1877.000000</td>\n",
       "      <td>1859.000000</td>\n",
       "      <td>1712.000000</td>\n",
       "      <td>1.771000e+03</td>\n",
       "      <td>1901.000000</td>\n",
       "    </tr>\n",
       "    <tr>\n",
       "      <th>mean</th>\n",
       "      <td>6.354072</td>\n",
       "      <td>7.227987</td>\n",
       "      <td>1870.865440</td>\n",
       "      <td>6.855576</td>\n",
       "      <td>1.657830</td>\n",
       "      <td>5.601233e+05</td>\n",
       "      <td>2010.370331</td>\n",
       "    </tr>\n",
       "    <tr>\n",
       "      <th>std</th>\n",
       "      <td>1.343861</td>\n",
       "      <td>0.650047</td>\n",
       "      <td>5668.584319</td>\n",
       "      <td>27.682197</td>\n",
       "      <td>4.149109</td>\n",
       "      <td>1.458333e+07</td>\n",
       "      <td>2.710534</td>\n",
       "    </tr>\n",
       "    <tr>\n",
       "      <th>min</th>\n",
       "      <td>0.000000</td>\n",
       "      <td>0.000000</td>\n",
       "      <td>11.000000</td>\n",
       "      <td>0.100000</td>\n",
       "      <td>0.000000</td>\n",
       "      <td>0.000000e+00</td>\n",
       "      <td>2005.000000</td>\n",
       "    </tr>\n",
       "    <tr>\n",
       "      <th>25%</th>\n",
       "      <td>5.900000</td>\n",
       "      <td>6.900000</td>\n",
       "      <td>87.000000</td>\n",
       "      <td>1.200000</td>\n",
       "      <td>0.240000</td>\n",
       "      <td>1.015000e+02</td>\n",
       "      <td>2008.000000</td>\n",
       "    </tr>\n",
       "    <tr>\n",
       "      <th>50%</th>\n",
       "      <td>6.700000</td>\n",
       "      <td>7.300000</td>\n",
       "      <td>198.000000</td>\n",
       "      <td>1.900000</td>\n",
       "      <td>0.520000</td>\n",
       "      <td>4.650000e+02</td>\n",
       "      <td>2011.000000</td>\n",
       "    </tr>\n",
       "    <tr>\n",
       "      <th>75%</th>\n",
       "      <td>7.100000</td>\n",
       "      <td>7.600000</td>\n",
       "      <td>625.000000</td>\n",
       "      <td>3.633500</td>\n",
       "      <td>1.580000</td>\n",
       "      <td>1.929000e+03</td>\n",
       "      <td>2013.000000</td>\n",
       "    </tr>\n",
       "    <tr>\n",
       "      <th>max</th>\n",
       "      <td>11.400000</td>\n",
       "      <td>9.010000</td>\n",
       "      <td>65700.000000</td>\n",
       "      <td>534.500000</td>\n",
       "      <td>108.700000</td>\n",
       "      <td>5.110909e+08</td>\n",
       "      <td>2014.000000</td>\n",
       "    </tr>\n",
       "  </tbody>\n",
       "</table>\n",
       "</div>"
      ],
      "text/plain": [
       "                do           ph            co          bod           na  \\\n",
       "count  1871.000000  1894.000000   1877.000000  1859.000000  1712.000000   \n",
       "mean      6.354072     7.227987   1870.865440     6.855576     1.657830   \n",
       "std       1.343861     0.650047   5668.584319    27.682197     4.149109   \n",
       "min       0.000000     0.000000     11.000000     0.100000     0.000000   \n",
       "25%       5.900000     6.900000     87.000000     1.200000     0.240000   \n",
       "50%       6.700000     7.300000    198.000000     1.900000     0.520000   \n",
       "75%       7.100000     7.600000    625.000000     3.633500     1.580000   \n",
       "max      11.400000     9.010000  65700.000000   534.500000   108.700000   \n",
       "\n",
       "                 tc         year  \n",
       "count  1.771000e+03  1901.000000  \n",
       "mean   5.601233e+05  2010.370331  \n",
       "std    1.458333e+07     2.710534  \n",
       "min    0.000000e+00  2005.000000  \n",
       "25%    1.015000e+02  2008.000000  \n",
       "50%    4.650000e+02  2011.000000  \n",
       "75%    1.929000e+03  2013.000000  \n",
       "max    5.110909e+08  2014.000000  "
      ]
     },
     "execution_count": 12,
     "metadata": {},
     "output_type": "execute_result"
    }
   ],
   "source": [
    "new_data.describe()"
   ]
  },
  {
   "cell_type": "markdown",
   "metadata": {},
   "source": [
    "# Calculation of Water Qualitty Index\n",
    "\n",
    "1. WQI or Water Quality Index is calculated using several methods.\n",
    "2. Here, the parameters used for calculating WQI are pH, Dissolved Oxygen, Biological Oxygen Demand, Total Cholifrom, Conductivity, Dissolved Nitrates.\n",
    "3. WQI is calculted by using the scores (out of 100) of each parameter multiplied by their respective weights, and then adding all of them together.\n",
    "4. These scores represent the numbers corresponding each parameter, assigned to them on the basis of desirability, for example pH value of water should be between 7 and 8.5 (both inclusive), so this range is appointed a score of 100 (best), and similarily High Total Coliform (>=80, <=125) content is very undesriable , so it has been appointed a score of 40 (poor)\n"
   ]
  },
  {
   "cell_type": "code",
   "execution_count": 13,
   "metadata": {
    "_uuid": "c2821fe55fdcf56135b5d6a20d5382fc9d006411"
   },
   "outputs": [],
   "source": [
    "#calulation of Ph Score \n",
    "#These scores are out of 100, where 0 being least desirable 100 being most desirable.\n",
    "new_data['npH']=new_data.ph.apply(lambda x: (100 if (8.5>=x>=7)  \n",
    "                                 else(80 if  (8.6>=x>=8.5) or (6.9>=x>=6.8) \n",
    "                                      else(60 if (8.8>=x>=8.6) or (6.8>=x>=6.7) \n",
    "                                          else(40 if (9>=x>=8.8) or (6.7>=x>=6.5)\n",
    "                                              else 0)))))\n"
   ]
  },
  {
   "cell_type": "code",
   "execution_count": 14,
   "metadata": {
    "_uuid": "522c5937fb8199e5ba9600011856b7abe7c41dfd"
   },
   "outputs": [],
   "source": [
    "#calculation of dissolved oxygen Score\n",
    "new_data['ndo']=new_data.do.apply(lambda x:(100 if (x>=6)  \n",
    "                                 else(80 if  (6>=x>=5.1) \n",
    "                                      else(60 if (5>=x>=4.1)\n",
    "                                          else(40 if (4>=x>=3) \n",
    "                                              else 0)))))"
   ]
  },
  {
   "cell_type": "code",
   "execution_count": 15,
   "metadata": {
    "_uuid": "0e443b323f7ea397bb3e63a8eb1b0f243c247c82"
   },
   "outputs": [],
   "source": [
    "#calculation of total coliform Score\n",
    "new_data['nco']=new_data.tc.apply(lambda x:(100 if (5>=x>=0)  \n",
    "                                 else(80 if  (50>=x>=5) \n",
    "                                      else(60 if (500>=x>=50)\n",
    "                                          else(40 if (10000>=x>=500) \n",
    "                                              else 0)))))"
   ]
  },
  {
   "cell_type": "code",
   "execution_count": 16,
   "metadata": {
    "_uuid": "f421697d9e925a02e8d8c919546ccddc306d6619"
   },
   "outputs": [],
   "source": [
    "#calc of B.D.O Score\n",
    "new_data['nbdo']=new_data.bod.apply(lambda x:(100 if (3>=x>=0)  \n",
    "                                 else(80 if  (6>=x>=3) \n",
    "                                      else(60 if (80>=x>=6)\n",
    "                                          else(40 if (125>=x>=80) \n",
    "                                              else 0)))))"
   ]
  },
  {
   "cell_type": "code",
   "execution_count": 17,
   "metadata": {
    "_uuid": "432790c8c67937138427c395c4706da173911e16"
   },
   "outputs": [],
   "source": [
    "#calculation of electrical conductivity Score\n",
    "new_data['nec']=new_data.co.apply(lambda x:(100 if (75>=x>=0)  \n",
    "                                 else(80 if  (150>=x>=75) \n",
    "                                      else(60 if (225>=x>=150)\n",
    "                                          else(40 if (300>=x>=225) \n",
    "                                              else 0)))))\n"
   ]
  },
  {
   "cell_type": "code",
   "execution_count": 18,
   "metadata": {
    "_uuid": "96bb369fe0bfe6ed046e93f1c33855125b394ab4"
   },
   "outputs": [
    {
     "data": {
      "text/plain": [
       "station      object\n",
       "location     object\n",
       "state        object\n",
       "do          float64\n",
       "ph          float64\n",
       "co          float64\n",
       "bod         float64\n",
       "na          float64\n",
       "tc          float64\n",
       "year          int64\n",
       "npH           int64\n",
       "ndo           int64\n",
       "nco           int64\n",
       "nbdo          int64\n",
       "nec           int64\n",
       "nna           int64\n",
       "dtype: object"
      ]
     },
     "execution_count": 18,
     "metadata": {},
     "output_type": "execute_result"
    }
   ],
   "source": [
    "#Calulation of nitrate Score\n",
    "new_data['nna']=new_data.na.apply(lambda x:(100 if (20>=x>=0)  \n",
    "                                 else(80 if  (50>=x>=20) \n",
    "                                      else(60 if (100>=x>=50)\n",
    "                                          else(40 if (200>=x>=100) \n",
    "                                              else 0)))))\n",
    "\n",
    "new_data.head()\n",
    "new_data.dtypes"
   ]
  },
  {
   "cell_type": "code",
   "execution_count": 19,
   "metadata": {
    "_uuid": "0c1462f89a3526c780053de8f891ac806efcb51d"
   },
   "outputs": [
    {
     "data": {
      "text/html": [
       "<div>\n",
       "<style scoped>\n",
       "    .dataframe tbody tr th:only-of-type {\n",
       "        vertical-align: middle;\n",
       "    }\n",
       "\n",
       "    .dataframe tbody tr th {\n",
       "        vertical-align: top;\n",
       "    }\n",
       "\n",
       "    .dataframe thead th {\n",
       "        text-align: right;\n",
       "    }\n",
       "</style>\n",
       "<table border=\"1\" class=\"dataframe\">\n",
       "  <thead>\n",
       "    <tr style=\"text-align: right;\">\n",
       "      <th></th>\n",
       "      <th>station</th>\n",
       "      <th>location</th>\n",
       "      <th>state</th>\n",
       "      <th>do</th>\n",
       "      <th>ph</th>\n",
       "      <th>co</th>\n",
       "      <th>bod</th>\n",
       "      <th>na</th>\n",
       "      <th>tc</th>\n",
       "      <th>year</th>\n",
       "      <th>...</th>\n",
       "      <th>nbdo</th>\n",
       "      <th>nec</th>\n",
       "      <th>nna</th>\n",
       "      <th>wph</th>\n",
       "      <th>wdo</th>\n",
       "      <th>wbdo</th>\n",
       "      <th>wec</th>\n",
       "      <th>wna</th>\n",
       "      <th>wco</th>\n",
       "      <th>wqi</th>\n",
       "    </tr>\n",
       "  </thead>\n",
       "  <tbody>\n",
       "    <tr>\n",
       "      <th>0</th>\n",
       "      <td>1393</td>\n",
       "      <td>DAMANGANGA AT D/S OF MADHUBAN, DAMAN</td>\n",
       "      <td>DAMAN &amp; DIU</td>\n",
       "      <td>6.7</td>\n",
       "      <td>7.50</td>\n",
       "      <td>203.0</td>\n",
       "      <td>NaN</td>\n",
       "      <td>0.100</td>\n",
       "      <td>27.0</td>\n",
       "      <td>2014</td>\n",
       "      <td>...</td>\n",
       "      <td>0</td>\n",
       "      <td>60</td>\n",
       "      <td>100</td>\n",
       "      <td>16.5</td>\n",
       "      <td>28.10</td>\n",
       "      <td>0.00</td>\n",
       "      <td>0.54</td>\n",
       "      <td>2.8</td>\n",
       "      <td>22.48</td>\n",
       "      <td>70.42</td>\n",
       "    </tr>\n",
       "    <tr>\n",
       "      <th>1</th>\n",
       "      <td>1399</td>\n",
       "      <td>ZUARI AT D/S OF PT. WHERE KUMBARJRIA CANAL JOI...</td>\n",
       "      <td>GOA</td>\n",
       "      <td>5.7</td>\n",
       "      <td>7.20</td>\n",
       "      <td>189.0</td>\n",
       "      <td>2.000</td>\n",
       "      <td>0.200</td>\n",
       "      <td>8391.0</td>\n",
       "      <td>2014</td>\n",
       "      <td>...</td>\n",
       "      <td>100</td>\n",
       "      <td>60</td>\n",
       "      <td>100</td>\n",
       "      <td>16.5</td>\n",
       "      <td>22.48</td>\n",
       "      <td>23.40</td>\n",
       "      <td>0.54</td>\n",
       "      <td>2.8</td>\n",
       "      <td>11.24</td>\n",
       "      <td>76.96</td>\n",
       "    </tr>\n",
       "    <tr>\n",
       "      <th>2</th>\n",
       "      <td>1475</td>\n",
       "      <td>ZUARI AT PANCHAWADI</td>\n",
       "      <td>GOA</td>\n",
       "      <td>6.3</td>\n",
       "      <td>6.90</td>\n",
       "      <td>179.0</td>\n",
       "      <td>1.700</td>\n",
       "      <td>0.100</td>\n",
       "      <td>5330.0</td>\n",
       "      <td>2014</td>\n",
       "      <td>...</td>\n",
       "      <td>100</td>\n",
       "      <td>60</td>\n",
       "      <td>100</td>\n",
       "      <td>13.2</td>\n",
       "      <td>28.10</td>\n",
       "      <td>23.40</td>\n",
       "      <td>0.54</td>\n",
       "      <td>2.8</td>\n",
       "      <td>11.24</td>\n",
       "      <td>79.28</td>\n",
       "    </tr>\n",
       "    <tr>\n",
       "      <th>3</th>\n",
       "      <td>3181</td>\n",
       "      <td>RIVER ZUARI AT BORIM BRIDGE</td>\n",
       "      <td>GOA</td>\n",
       "      <td>5.8</td>\n",
       "      <td>6.90</td>\n",
       "      <td>64.0</td>\n",
       "      <td>3.800</td>\n",
       "      <td>0.500</td>\n",
       "      <td>8443.0</td>\n",
       "      <td>2014</td>\n",
       "      <td>...</td>\n",
       "      <td>80</td>\n",
       "      <td>100</td>\n",
       "      <td>100</td>\n",
       "      <td>13.2</td>\n",
       "      <td>22.48</td>\n",
       "      <td>18.72</td>\n",
       "      <td>0.90</td>\n",
       "      <td>2.8</td>\n",
       "      <td>11.24</td>\n",
       "      <td>69.34</td>\n",
       "    </tr>\n",
       "    <tr>\n",
       "      <th>4</th>\n",
       "      <td>3182</td>\n",
       "      <td>RIVER ZUARI AT MARCAIM JETTY</td>\n",
       "      <td>GOA</td>\n",
       "      <td>5.8</td>\n",
       "      <td>7.30</td>\n",
       "      <td>83.0</td>\n",
       "      <td>1.900</td>\n",
       "      <td>0.400</td>\n",
       "      <td>5500.0</td>\n",
       "      <td>2014</td>\n",
       "      <td>...</td>\n",
       "      <td>100</td>\n",
       "      <td>80</td>\n",
       "      <td>100</td>\n",
       "      <td>16.5</td>\n",
       "      <td>22.48</td>\n",
       "      <td>23.40</td>\n",
       "      <td>0.72</td>\n",
       "      <td>2.8</td>\n",
       "      <td>11.24</td>\n",
       "      <td>77.14</td>\n",
       "    </tr>\n",
       "    <tr>\n",
       "      <th>...</th>\n",
       "      <td>...</td>\n",
       "      <td>...</td>\n",
       "      <td>...</td>\n",
       "      <td>...</td>\n",
       "      <td>...</td>\n",
       "      <td>...</td>\n",
       "      <td>...</td>\n",
       "      <td>...</td>\n",
       "      <td>...</td>\n",
       "      <td>...</td>\n",
       "      <td>...</td>\n",
       "      <td>...</td>\n",
       "      <td>...</td>\n",
       "      <td>...</td>\n",
       "      <td>...</td>\n",
       "      <td>...</td>\n",
       "      <td>...</td>\n",
       "      <td>...</td>\n",
       "      <td>...</td>\n",
       "      <td>...</td>\n",
       "      <td>...</td>\n",
       "    </tr>\n",
       "    <tr>\n",
       "      <th>1896</th>\n",
       "      <td>NAN</td>\n",
       "      <td>TAMBIRAPARANI AT ARUMUGANERI, TAMILNADU</td>\n",
       "      <td>NAN</td>\n",
       "      <td>6.6</td>\n",
       "      <td>7.81</td>\n",
       "      <td>603.2</td>\n",
       "      <td>2.675</td>\n",
       "      <td>0.263</td>\n",
       "      <td>191.0</td>\n",
       "      <td>2005</td>\n",
       "      <td>...</td>\n",
       "      <td>100</td>\n",
       "      <td>0</td>\n",
       "      <td>100</td>\n",
       "      <td>16.5</td>\n",
       "      <td>28.10</td>\n",
       "      <td>23.40</td>\n",
       "      <td>0.00</td>\n",
       "      <td>2.8</td>\n",
       "      <td>16.86</td>\n",
       "      <td>87.66</td>\n",
       "    </tr>\n",
       "    <tr>\n",
       "      <th>1897</th>\n",
       "      <td>NAN</td>\n",
       "      <td>PALAR AT VANIYAMBADI WATER SUPPLY HEAD WORK, T...</td>\n",
       "      <td>NAN</td>\n",
       "      <td>6.6</td>\n",
       "      <td>7.49</td>\n",
       "      <td>571.5</td>\n",
       "      <td>2.091</td>\n",
       "      <td>0.256</td>\n",
       "      <td>273.0</td>\n",
       "      <td>2005</td>\n",
       "      <td>...</td>\n",
       "      <td>100</td>\n",
       "      <td>0</td>\n",
       "      <td>100</td>\n",
       "      <td>16.5</td>\n",
       "      <td>28.10</td>\n",
       "      <td>23.40</td>\n",
       "      <td>0.00</td>\n",
       "      <td>2.8</td>\n",
       "      <td>16.86</td>\n",
       "      <td>87.66</td>\n",
       "    </tr>\n",
       "    <tr>\n",
       "      <th>1898</th>\n",
       "      <td>NAN</td>\n",
       "      <td>GUMTI AT U/S SOUTH TRIPURA,TRIPURA</td>\n",
       "      <td>NAN</td>\n",
       "      <td>5.4</td>\n",
       "      <td>7.16</td>\n",
       "      <td>75.8</td>\n",
       "      <td>2.092</td>\n",
       "      <td>NaN</td>\n",
       "      <td>513.0</td>\n",
       "      <td>2005</td>\n",
       "      <td>...</td>\n",
       "      <td>100</td>\n",
       "      <td>80</td>\n",
       "      <td>0</td>\n",
       "      <td>16.5</td>\n",
       "      <td>22.48</td>\n",
       "      <td>23.40</td>\n",
       "      <td>0.72</td>\n",
       "      <td>0.0</td>\n",
       "      <td>11.24</td>\n",
       "      <td>74.34</td>\n",
       "    </tr>\n",
       "    <tr>\n",
       "      <th>1899</th>\n",
       "      <td>NAN</td>\n",
       "      <td>GUMTI AT D/S SOUTH TRIPURA, TRIPURA</td>\n",
       "      <td>NAN</td>\n",
       "      <td>5.4</td>\n",
       "      <td>7.37</td>\n",
       "      <td>104.8</td>\n",
       "      <td>1.802</td>\n",
       "      <td>0.215</td>\n",
       "      <td>557.0</td>\n",
       "      <td>2005</td>\n",
       "      <td>...</td>\n",
       "      <td>100</td>\n",
       "      <td>80</td>\n",
       "      <td>100</td>\n",
       "      <td>16.5</td>\n",
       "      <td>22.48</td>\n",
       "      <td>23.40</td>\n",
       "      <td>0.72</td>\n",
       "      <td>2.8</td>\n",
       "      <td>11.24</td>\n",
       "      <td>77.14</td>\n",
       "    </tr>\n",
       "    <tr>\n",
       "      <th>1900</th>\n",
       "      <td>NAN</td>\n",
       "      <td>CHANDRAPUR, AGARTALA D/S OF HAORA RIVER, TRIPURA</td>\n",
       "      <td>NAN</td>\n",
       "      <td>5.3</td>\n",
       "      <td>7.37</td>\n",
       "      <td>102.2</td>\n",
       "      <td>2.552</td>\n",
       "      <td>0.202</td>\n",
       "      <td>583.0</td>\n",
       "      <td>2005</td>\n",
       "      <td>...</td>\n",
       "      <td>100</td>\n",
       "      <td>80</td>\n",
       "      <td>100</td>\n",
       "      <td>16.5</td>\n",
       "      <td>22.48</td>\n",
       "      <td>23.40</td>\n",
       "      <td>0.72</td>\n",
       "      <td>2.8</td>\n",
       "      <td>11.24</td>\n",
       "      <td>77.14</td>\n",
       "    </tr>\n",
       "  </tbody>\n",
       "</table>\n",
       "<p>1901 rows × 23 columns</p>\n",
       "</div>"
      ],
      "text/plain": [
       "     station                                           location        state  \\\n",
       "0       1393               DAMANGANGA AT D/S OF MADHUBAN, DAMAN  DAMAN & DIU   \n",
       "1       1399  ZUARI AT D/S OF PT. WHERE KUMBARJRIA CANAL JOI...          GOA   \n",
       "2       1475                                ZUARI AT PANCHAWADI          GOA   \n",
       "3       3181                        RIVER ZUARI AT BORIM BRIDGE          GOA   \n",
       "4       3182                       RIVER ZUARI AT MARCAIM JETTY          GOA   \n",
       "...      ...                                                ...          ...   \n",
       "1896     NAN            TAMBIRAPARANI AT ARUMUGANERI, TAMILNADU          NAN   \n",
       "1897     NAN  PALAR AT VANIYAMBADI WATER SUPPLY HEAD WORK, T...          NAN   \n",
       "1898     NAN                 GUMTI AT U/S SOUTH TRIPURA,TRIPURA          NAN   \n",
       "1899     NAN                GUMTI AT D/S SOUTH TRIPURA, TRIPURA          NAN   \n",
       "1900     NAN   CHANDRAPUR, AGARTALA D/S OF HAORA RIVER, TRIPURA          NAN   \n",
       "\n",
       "       do    ph     co    bod     na      tc  year  ...  nbdo  nec  nna   wph  \\\n",
       "0     6.7  7.50  203.0    NaN  0.100    27.0  2014  ...     0   60  100  16.5   \n",
       "1     5.7  7.20  189.0  2.000  0.200  8391.0  2014  ...   100   60  100  16.5   \n",
       "2     6.3  6.90  179.0  1.700  0.100  5330.0  2014  ...   100   60  100  13.2   \n",
       "3     5.8  6.90   64.0  3.800  0.500  8443.0  2014  ...    80  100  100  13.2   \n",
       "4     5.8  7.30   83.0  1.900  0.400  5500.0  2014  ...   100   80  100  16.5   \n",
       "...   ...   ...    ...    ...    ...     ...   ...  ...   ...  ...  ...   ...   \n",
       "1896  6.6  7.81  603.2  2.675  0.263   191.0  2005  ...   100    0  100  16.5   \n",
       "1897  6.6  7.49  571.5  2.091  0.256   273.0  2005  ...   100    0  100  16.5   \n",
       "1898  5.4  7.16   75.8  2.092    NaN   513.0  2005  ...   100   80    0  16.5   \n",
       "1899  5.4  7.37  104.8  1.802  0.215   557.0  2005  ...   100   80  100  16.5   \n",
       "1900  5.3  7.37  102.2  2.552  0.202   583.0  2005  ...   100   80  100  16.5   \n",
       "\n",
       "        wdo   wbdo   wec  wna    wco    wqi  \n",
       "0     28.10   0.00  0.54  2.8  22.48  70.42  \n",
       "1     22.48  23.40  0.54  2.8  11.24  76.96  \n",
       "2     28.10  23.40  0.54  2.8  11.24  79.28  \n",
       "3     22.48  18.72  0.90  2.8  11.24  69.34  \n",
       "4     22.48  23.40  0.72  2.8  11.24  77.14  \n",
       "...     ...    ...   ...  ...    ...    ...  \n",
       "1896  28.10  23.40  0.00  2.8  16.86  87.66  \n",
       "1897  28.10  23.40  0.00  2.8  16.86  87.66  \n",
       "1898  22.48  23.40  0.72  0.0  11.24  74.34  \n",
       "1899  22.48  23.40  0.72  2.8  11.24  77.14  \n",
       "1900  22.48  23.40  0.72  2.8  11.24  77.14  \n",
       "\n",
       "[1901 rows x 23 columns]"
      ]
     },
     "execution_count": 19,
     "metadata": {},
     "output_type": "execute_result"
    }
   ],
   "source": [
    "#Multiplying Parameter Scores to their respective weight, and then adding them all to calculate WQI\n",
    "\n",
    "new_data['wph']=new_data.npH * 0.165\n",
    "new_data['wdo']=new_data.ndo * 0.281\n",
    "new_data['wbdo']=new_data.nbdo * 0.234\n",
    "new_data['wec']=new_data.nec* 0.009\n",
    "new_data['wna']=new_data.nna * 0.028\n",
    "new_data['wco']=new_data.nco * 0.281\n",
    "new_data['wqi']=new_data.wph+new_data.wdo+new_data.wbdo+new_data.wec+new_data.wna+new_data.wco \n",
    "new_data\n"
   ]
  },
  {
   "cell_type": "code",
   "execution_count": 20,
   "metadata": {
    "_uuid": "1d93ce1da4d8a054073820ae573e1735fdbef19d"
   },
   "outputs": [],
   "source": [
    "#In this step, mean WQI value is calculated for each year and then data is grouped year-wise.\n",
    "WQI_total=new_data.groupby('year')['wqi'].mean()"
   ]
  },
  {
   "cell_type": "code",
   "execution_count": 21,
   "metadata": {
    "_uuid": "3c6a6c48311870df8217720ca59c569e105c7606",
    "scrolled": true
   },
   "outputs": [
    {
     "data": {
      "text/plain": [
       "year\n",
       "2005    72.111429\n",
       "2006    71.224571\n",
       "2007    72.549000\n",
       "2008    72.570943\n",
       "2009    74.085193\n",
       "2010    74.648723\n",
       "2011    75.647013\n",
       "2012    78.969041\n",
       "2013    75.009425\n",
       "2014    76.853551\n",
       "Name: wqi, dtype: float64"
      ]
     },
     "execution_count": 21,
     "metadata": {},
     "output_type": "execute_result"
    }
   ],
   "source": [
    "WQI_total\n"
   ]
  },
  {
   "cell_type": "code",
   "execution_count": 22,
   "metadata": {
    "_uuid": "cc19551971d8211b993ea3ab3fd2f22e5cff2b0d"
   },
   "outputs": [
    {
     "data": {
      "text/html": [
       "<div>\n",
       "<style scoped>\n",
       "    .dataframe tbody tr th:only-of-type {\n",
       "        vertical-align: middle;\n",
       "    }\n",
       "\n",
       "    .dataframe tbody tr th {\n",
       "        vertical-align: top;\n",
       "    }\n",
       "\n",
       "    .dataframe thead th {\n",
       "        text-align: right;\n",
       "    }\n",
       "</style>\n",
       "<table border=\"1\" class=\"dataframe\">\n",
       "  <thead>\n",
       "    <tr style=\"text-align: right;\">\n",
       "      <th></th>\n",
       "      <th>year</th>\n",
       "      <th>wqi</th>\n",
       "    </tr>\n",
       "  </thead>\n",
       "  <tbody>\n",
       "    <tr>\n",
       "      <th>0</th>\n",
       "      <td>2005</td>\n",
       "      <td>72.111429</td>\n",
       "    </tr>\n",
       "    <tr>\n",
       "      <th>1</th>\n",
       "      <td>2006</td>\n",
       "      <td>71.224571</td>\n",
       "    </tr>\n",
       "    <tr>\n",
       "      <th>2</th>\n",
       "      <td>2007</td>\n",
       "      <td>72.549000</td>\n",
       "    </tr>\n",
       "    <tr>\n",
       "      <th>3</th>\n",
       "      <td>2008</td>\n",
       "      <td>72.570943</td>\n",
       "    </tr>\n",
       "    <tr>\n",
       "      <th>4</th>\n",
       "      <td>2009</td>\n",
       "      <td>74.085193</td>\n",
       "    </tr>\n",
       "    <tr>\n",
       "      <th>5</th>\n",
       "      <td>2010</td>\n",
       "      <td>74.648723</td>\n",
       "    </tr>\n",
       "    <tr>\n",
       "      <th>6</th>\n",
       "      <td>2011</td>\n",
       "      <td>75.647013</td>\n",
       "    </tr>\n",
       "    <tr>\n",
       "      <th>7</th>\n",
       "      <td>2012</td>\n",
       "      <td>78.969041</td>\n",
       "    </tr>\n",
       "    <tr>\n",
       "      <th>8</th>\n",
       "      <td>2013</td>\n",
       "      <td>75.009425</td>\n",
       "    </tr>\n",
       "    <tr>\n",
       "      <th>9</th>\n",
       "      <td>2014</td>\n",
       "      <td>76.853551</td>\n",
       "    </tr>\n",
       "  </tbody>\n",
       "</table>\n",
       "</div>"
      ],
      "text/plain": [
       "   year        wqi\n",
       "0  2005  72.111429\n",
       "1  2006  71.224571\n",
       "2  2007  72.549000\n",
       "3  2008  72.570943\n",
       "4  2009  74.085193\n",
       "5  2010  74.648723\n",
       "6  2011  75.647013\n",
       "7  2012  78.969041\n",
       "8  2013  75.009425\n",
       "9  2014  76.853551"
      ]
     },
     "execution_count": 22,
     "metadata": {},
     "output_type": "execute_result"
    }
   ],
   "source": [
    "new_data=WQI_total.reset_index(level=0,inplace=False)\n",
    "new_data\n"
   ]
  },
  {
   "cell_type": "code",
   "execution_count": 23,
   "metadata": {
    "_uuid": "779ee6c0a1d70f25ddae00a9882be7ef4574380d"
   },
   "outputs": [],
   "source": [
    "new_data = new_data[np.isfinite(new_data['wqi'])]\n"
   ]
  },
  {
   "cell_type": "code",
   "execution_count": 24,
   "metadata": {
    "_uuid": "84dafc968c50b1c050de74a71d73aa5f0e6c04b5"
   },
   "outputs": [
    {
     "data": {
      "image/png": "[encoded data removed]",
      "text/plain": [
       "<Figure size 432x288 with 1 Axes>"
      ]
     },
     "metadata": {
      "needs_background": "light"
     },
     "output_type": "display_data"
    }
   ],
   "source": [
    "#scatter plot of data points\n",
    "import matplotlib.pyplot as plt\n",
    "cols =['year']\n",
    "y = new_data['wqi']\n",
    "x=new_data[cols]\n",
    "\n",
    "plt.scatter(x,y)\n",
    "plt.show()"
   ]
  },
  {
   "cell_type": "code",
   "execution_count": 25,
   "metadata": {
    "_uuid": "6cc522e2e2dbc00770c03ee80c845b05e9a672af"
   },
   "outputs": [
    {
     "data": {
      "image/png": "[encoded data removed]",
      "text/plain": [
       "<Figure size 1080x432 with 1 Axes>"
      ]
     },
     "metadata": {
      "needs_background": "light"
     },
     "output_type": "display_data"
    }
   ],
   "source": [
    "import matplotlib.pyplot as plt\n",
    "new_data=new_data.set_index('year')\n",
    "new_data.plot(figsize=(15,6))\n",
    "\n",
    "plt.show()"
   ]
  },
  {
   "cell_type": "code",
   "execution_count": 26,
   "metadata": {
    "_uuid": "7d4b980a7a6a2867b0f44e8b2355edeff3b98479"
   },
   "outputs": [
    {
     "data": {
      "text/html": [
       "<div>\n",
       "<style scoped>\n",
       "    .dataframe tbody tr th:only-of-type {\n",
       "        vertical-align: middle;\n",
       "    }\n",
       "\n",
       "    .dataframe tbody tr th {\n",
       "        vertical-align: top;\n",
       "    }\n",
       "\n",
       "    .dataframe thead th {\n",
       "        text-align: right;\n",
       "    }\n",
       "</style>\n",
       "<table border=\"1\" class=\"dataframe\">\n",
       "  <thead>\n",
       "    <tr style=\"text-align: right;\">\n",
       "      <th></th>\n",
       "      <th>year</th>\n",
       "      <th>wqi</th>\n",
       "    </tr>\n",
       "  </thead>\n",
       "  <tbody>\n",
       "    <tr>\n",
       "      <th>0</th>\n",
       "      <td>2005</td>\n",
       "      <td>72.111429</td>\n",
       "    </tr>\n",
       "    <tr>\n",
       "      <th>1</th>\n",
       "      <td>2006</td>\n",
       "      <td>71.224571</td>\n",
       "    </tr>\n",
       "    <tr>\n",
       "      <th>2</th>\n",
       "      <td>2007</td>\n",
       "      <td>72.549000</td>\n",
       "    </tr>\n",
       "    <tr>\n",
       "      <th>3</th>\n",
       "      <td>2008</td>\n",
       "      <td>72.570943</td>\n",
       "    </tr>\n",
       "    <tr>\n",
       "      <th>4</th>\n",
       "      <td>2009</td>\n",
       "      <td>74.085193</td>\n",
       "    </tr>\n",
       "    <tr>\n",
       "      <th>5</th>\n",
       "      <td>2010</td>\n",
       "      <td>74.648723</td>\n",
       "    </tr>\n",
       "    <tr>\n",
       "      <th>6</th>\n",
       "      <td>2011</td>\n",
       "      <td>75.647013</td>\n",
       "    </tr>\n",
       "    <tr>\n",
       "      <th>7</th>\n",
       "      <td>2012</td>\n",
       "      <td>78.969041</td>\n",
       "    </tr>\n",
       "    <tr>\n",
       "      <th>8</th>\n",
       "      <td>2013</td>\n",
       "      <td>75.009425</td>\n",
       "    </tr>\n",
       "    <tr>\n",
       "      <th>9</th>\n",
       "      <td>2014</td>\n",
       "      <td>76.853551</td>\n",
       "    </tr>\n",
       "  </tbody>\n",
       "</table>\n",
       "</div>"
      ],
      "text/plain": [
       "   year        wqi\n",
       "0  2005  72.111429\n",
       "1  2006  71.224571\n",
       "2  2007  72.549000\n",
       "3  2008  72.570943\n",
       "4  2009  74.085193\n",
       "5  2010  74.648723\n",
       "6  2011  75.647013\n",
       "7  2012  78.969041\n",
       "8  2013  75.009425\n",
       "9  2014  76.853551"
      ]
     },
     "execution_count": 26,
     "metadata": {},
     "output_type": "execute_result"
    }
   ],
   "source": [
    "from sklearn import neighbors,datasets\n",
    "new_data=new_data.reset_index(level=0,inplace=False)\n",
    "new_data"
   ]
  },
  {
   "cell_type": "code",
   "execution_count": 27,
   "metadata": {
    "_uuid": "4f56fb9c29458e057324bddba5353b8e824bfd8a"
   },
   "outputs": [],
   "source": [
    "#using linear regression to predict\n",
    "from sklearn import linear_model\n",
    "from sklearn.model_selection import train_test_split"
   ]
  },
  {
   "cell_type": "code",
   "execution_count": 28,
   "metadata": {
    "_uuid": "742901bc94bd37fe23000af6a6011466e97874a1"
   },
   "outputs": [],
   "source": [
    "cols =['year']"
   ]
  },
  {
   "cell_type": "code",
   "execution_count": 29,
   "metadata": {
    "_uuid": "09501a049da5fa33e11e80069f8c65c651c5a0a5"
   },
   "outputs": [],
   "source": [
    "y = new_data['wqi']\n",
    "x=new_data[cols]"
   ]
  },
  {
   "cell_type": "code",
   "execution_count": 30,
   "metadata": {
    "_uuid": "8c3851759e9fd00b17bc37ed8f2683437e7fe23f"
   },
   "outputs": [],
   "source": [
    "#building LR model and performing 80-20 data split, 80% data used for training the model, 20% data used for testing the model\n",
    "reg=linear_model.LinearRegression()\n",
    "x_train,x_test,y_train,y_test=train_test_split(x,y,test_size=0.2,random_state=4)"
   ]
  },
  {
   "cell_type": "code",
   "execution_count": 31,
   "metadata": {
    "_uuid": "a6f684f7c09a95c8ec3a4482c19014882a132e09",
    "scrolled": true
   },
   "outputs": [
    {
     "data": {
      "text/plain": [
       "LinearRegression()"
      ]
     },
     "execution_count": 31,
     "metadata": {},
     "output_type": "execute_result"
    }
   ],
   "source": [
    "#Training our model\n",
    "\n",
    "reg.fit(x_train,y_train)\n"
   ]
  },
  {
   "cell_type": "code",
   "execution_count": 32,
   "metadata": {},
   "outputs": [
    {
     "data": {
      "text/html": [
       "<div>\n",
       "<style scoped>\n",
       "    .dataframe tbody tr th:only-of-type {\n",
       "        vertical-align: middle;\n",
       "    }\n",
       "\n",
       "    .dataframe tbody tr th {\n",
       "        vertical-align: top;\n",
       "    }\n",
       "\n",
       "    .dataframe thead th {\n",
       "        text-align: right;\n",
       "    }\n",
       "</style>\n",
       "<table border=\"1\" class=\"dataframe\">\n",
       "  <thead>\n",
       "    <tr style=\"text-align: right;\">\n",
       "      <th></th>\n",
       "      <th>year</th>\n",
       "    </tr>\n",
       "  </thead>\n",
       "  <tbody>\n",
       "    <tr>\n",
       "      <th>3</th>\n",
       "      <td>2008</td>\n",
       "    </tr>\n",
       "    <tr>\n",
       "      <th>8</th>\n",
       "      <td>2013</td>\n",
       "    </tr>\n",
       "  </tbody>\n",
       "</table>\n",
       "</div>"
      ],
      "text/plain": [
       "   year\n",
       "3  2008\n",
       "8  2013"
      ]
     },
     "execution_count": 32,
     "metadata": {},
     "output_type": "execute_result"
    }
   ],
   "source": [
    "x_test"
   ]
  },
  {
   "cell_type": "code",
   "execution_count": 33,
   "metadata": {
    "_uuid": "409ed4c7a7927a850900cc696eb6e69defca35ce"
   },
   "outputs": [
    {
     "data": {
      "text/plain": [
       "array([73.56887878, 77.33762461])"
      ]
     },
     "execution_count": 33,
     "metadata": {},
     "output_type": "execute_result"
    }
   ],
   "source": [
    "a=reg.predict(x_test)\n",
    "a"
   ]
  },
  {
   "cell_type": "code",
   "execution_count": 34,
   "metadata": {
    "_uuid": "3fd10b89a0f2a9f0cf007b18ca8fcdb2efec0abf"
   },
   "outputs": [
    {
     "data": {
      "text/plain": [
       "3    72.570943\n",
       "8    75.009425\n",
       "Name: wqi, dtype: float64"
      ]
     },
     "execution_count": 34,
     "metadata": {},
     "output_type": "execute_result"
    }
   ],
   "source": [
    "y_test"
   ]
  },
  {
   "cell_type": "code",
   "execution_count": 35,
   "metadata": {
    "_uuid": "5b036e752c47885097cbae6e2c5f5c0a27400925"
   },
   "outputs": [
    {
     "name": "stdout",
     "output_type": "stream",
     "text": [
      "mse:3.21\n"
     ]
    }
   ],
   "source": [
    "from sklearn.metrics import mean_squared_error\n",
    "print('mse:%.2f'%mean_squared_error(y_test,a))"
   ]
  },
  {
   "cell_type": "code",
   "execution_count": 36,
   "metadata": {
    "_uuid": "4cd1d3bcf67c3b93ee5c7f686c2f20eb6177077b"
   },
   "outputs": [],
   "source": [
    "dt = pd.DataFrame({'Actual': y_test, 'Predicted': a}) "
   ]
  },
  {
   "cell_type": "code",
   "execution_count": 37,
   "metadata": {
    "_uuid": "607dc99b713a8bca3f17310cdd2636c0a2e5a561"
   },
   "outputs": [
    {
     "data": {
      "text/plain": [
       "array([[ 1.        , -1.48630108],\n",
       "       [ 1.        , -1.15601195],\n",
       "       [ 1.        , -0.82572282],\n",
       "       [ 1.        , -0.49543369],\n",
       "       [ 1.        , -0.16514456],\n",
       "       [ 1.        ,  0.16514456],\n",
       "       [ 1.        ,  0.49543369],\n",
       "       [ 1.        ,  0.82572282],\n",
       "       [ 1.        ,  1.15601195],\n",
       "       [ 1.        ,  1.48630108]])"
      ]
     },
     "execution_count": 37,
     "metadata": {},
     "output_type": "execute_result"
    }
   ],
   "source": [
    "#using gradient descent algorithm to optimize it further\n",
    "x = (x - x.mean()) / x.std()\n",
    "x = np.c_[np.ones(x.shape[0]), x]\n",
    "x"
   ]
  },
  {
   "cell_type": "code",
   "execution_count": 38,
   "metadata": {
    "_uuid": "1396f1dc86d121828a0258c0e4bd207f077a4a04"
   },
   "outputs": [
    {
     "name": "stdout",
     "output_type": "stream",
     "text": [
      "Gradient Descent: 74.37, 2.04\n"
     ]
    }
   ],
   "source": [
    "alpha = 0.01 #Step size\n",
    "iterations = 3000 #No. of iterations\n",
    "m = y.size #No. of data points\n",
    "np.random.seed(4) #Setting the seed\n",
    "theta = np.random.rand(2) #Picking some random values to start with\n",
    "\n",
    "def gradient_descent(x, y, theta, iterations, alpha):\n",
    "    past_costs = []\n",
    "    past_thetas = [theta]\n",
    "    for i in range(iterations):\n",
    "        prediction = np.dot(x, theta)\n",
    "        error = prediction - y\n",
    "        cost = 1/(2*m) * np.dot(error.T, error)\n",
    "        past_costs.append(cost)\n",
    "        theta = theta - (alpha * (1/m) * np.dot(x.T, error))\n",
    "        past_thetas.append(theta)\n",
    "        \n",
    "    return past_thetas, past_costs\n",
    "\n",
    "past_thetas, past_costs = gradient_descent(x, y, theta, iterations, alpha)\n",
    "theta = past_thetas[-1]\n",
    "\n",
    "#Print the results...\n",
    "print(\"Gradient Descent: {:.2f}, {:.2f}\".format(theta[0], theta[1]))"
   ]
  },
  {
   "cell_type": "code",
   "execution_count": 39,
   "metadata": {
    "_uuid": "99ac723a4e07fae2ba319ba9ebafb36012ead100",
    "scrolled": true
   },
   "outputs": [
    {
     "data": {
      "image/png": "[encoded data removed]",
      "text/plain": [
       "<Figure size 432x288 with 1 Axes>"
      ]
     },
     "metadata": {
      "needs_background": "light"
     },
     "output_type": "display_data"
    }
   ],
   "source": [
    "plt.title('Cost Function J')\n",
    "plt.xlabel('No. of iterations')\n",
    "plt.ylabel('Cost')\n",
    "plt.plot(past_costs)\n",
    "plt.show()"
   ]
  },
  {
   "cell_type": "code",
   "execution_count": 40,
   "metadata": {},
   "outputs": [
    {
     "data": {
      "text/html": [
       "<div>\n",
       "<style scoped>\n",
       "    .dataframe tbody tr th:only-of-type {\n",
       "        vertical-align: middle;\n",
       "    }\n",
       "\n",
       "    .dataframe tbody tr th {\n",
       "        vertical-align: top;\n",
       "    }\n",
       "\n",
       "    .dataframe thead th {\n",
       "        text-align: right;\n",
       "    }\n",
       "</style>\n",
       "<table border=\"1\" class=\"dataframe\">\n",
       "  <thead>\n",
       "    <tr style=\"text-align: right;\">\n",
       "      <th></th>\n",
       "      <th>year</th>\n",
       "      <th>wqi</th>\n",
       "      <th>Actual</th>\n",
       "      <th>Predicted</th>\n",
       "    </tr>\n",
       "  </thead>\n",
       "  <tbody>\n",
       "    <tr>\n",
       "      <th>0</th>\n",
       "      <td>2005</td>\n",
       "      <td>72.111429</td>\n",
       "      <td>72.111429</td>\n",
       "      <td>71.594179</td>\n",
       "    </tr>\n",
       "    <tr>\n",
       "      <th>1</th>\n",
       "      <td>2006</td>\n",
       "      <td>71.224571</td>\n",
       "      <td>71.224571</td>\n",
       "      <td>72.297695</td>\n",
       "    </tr>\n",
       "    <tr>\n",
       "      <th>2</th>\n",
       "      <td>2007</td>\n",
       "      <td>72.549000</td>\n",
       "      <td>72.549000</td>\n",
       "      <td>73.001210</td>\n",
       "    </tr>\n",
       "    <tr>\n",
       "      <th>3</th>\n",
       "      <td>2008</td>\n",
       "      <td>72.570943</td>\n",
       "      <td>72.570943</td>\n",
       "      <td>73.704726</td>\n",
       "    </tr>\n",
       "    <tr>\n",
       "      <th>4</th>\n",
       "      <td>2009</td>\n",
       "      <td>74.085193</td>\n",
       "      <td>74.085193</td>\n",
       "      <td>74.408242</td>\n",
       "    </tr>\n",
       "    <tr>\n",
       "      <th>5</th>\n",
       "      <td>2010</td>\n",
       "      <td>74.648723</td>\n",
       "      <td>74.648723</td>\n",
       "      <td>75.111758</td>\n",
       "    </tr>\n",
       "    <tr>\n",
       "      <th>6</th>\n",
       "      <td>2011</td>\n",
       "      <td>75.647013</td>\n",
       "      <td>75.647013</td>\n",
       "      <td>75.815274</td>\n",
       "    </tr>\n",
       "    <tr>\n",
       "      <th>7</th>\n",
       "      <td>2012</td>\n",
       "      <td>78.969041</td>\n",
       "      <td>78.969041</td>\n",
       "      <td>76.518790</td>\n",
       "    </tr>\n",
       "    <tr>\n",
       "      <th>8</th>\n",
       "      <td>2013</td>\n",
       "      <td>75.009425</td>\n",
       "      <td>75.009425</td>\n",
       "      <td>77.222305</td>\n",
       "    </tr>\n",
       "    <tr>\n",
       "      <th>9</th>\n",
       "      <td>2014</td>\n",
       "      <td>76.853551</td>\n",
       "      <td>76.853551</td>\n",
       "      <td>77.925821</td>\n",
       "    </tr>\n",
       "  </tbody>\n",
       "</table>\n",
       "</div>"
      ],
      "text/plain": [
       "   year        wqi     Actual  Predicted\n",
       "0  2005  72.111429  72.111429  71.594179\n",
       "1  2006  71.224571  71.224571  72.297695\n",
       "2  2007  72.549000  72.549000  73.001210\n",
       "3  2008  72.570943  72.570943  73.704726\n",
       "4  2009  74.085193  74.085193  74.408242\n",
       "5  2010  74.648723  74.648723  75.111758\n",
       "6  2011  75.647013  75.647013  75.815274\n",
       "7  2012  78.969041  78.969041  76.518790\n",
       "8  2013  75.009425  75.009425  77.222305\n",
       "9  2014  76.853551  76.853551  77.925821"
      ]
     },
     "execution_count": 40,
     "metadata": {},
     "output_type": "execute_result"
    }
   ],
   "source": [
    "#prediction of january(2013-2015) across india\n",
    "import numpy as np\n",
    "newB=[74.76, 2.13]\n",
    "\n",
    "def rmse(y,y_pred):\n",
    "    rmse= np.sqrt(sum(y-y_pred))\n",
    "    return rmse\n",
    "   \n",
    "\n",
    "y_pred=x.dot(newB)\n",
    "\n",
    "dt = pd.DataFrame({'Actual': y, 'Predicted': y_pred})  \n",
    "dt=pd.concat([new_data, dt], axis=1)\n",
    "dt"
   ]
  },
  {
   "cell_type": "code",
   "execution_count": 41,
   "metadata": {
    "_uuid": "c8c54e1dc1d1ff3d76ac1c22ea0acfaacc181ba1"
   },
   "outputs": [
    {
     "name": "stdout",
     "output_type": "stream",
     "text": [
      "r2_score of this model is : 70.02547390767178 %\n"
     ]
    }
   ],
   "source": [
    "#testing the accuracy of the model\n",
    "\n",
    "from sklearn import metrics\n",
    "from sklearn.metrics import r2_score\n",
    "\n",
    "  \n",
    "a=r2_score(y, y_pred)\n",
    "\n",
    "print('r2_score of this model is :',a*100,'%')"
   ]
  },
  {
   "cell_type": "markdown",
   "metadata": {},
   "source": [
    "<h1> <center> Predicted vs Actual WQI (Bar-Graph)  </center></h1>"
   ]
  },
  {
   "cell_type": "code",
   "execution_count": 42,
   "metadata": {},
   "outputs": [
    {
     "data": {
      "text/plain": [
       "Text(0, 0.5, 'WQI')"
      ]
     },
     "execution_count": 42,
     "metadata": {},
     "output_type": "execute_result"
    },
    {
     "data": {
      "image/png": "[encoded data removed]",
      "text/plain": [
       "<Figure size 1080x720 with 1 Axes>"
      ]
     },
     "metadata": {},
     "output_type": "display_data"
    }
   ],
   "source": [
    "x_actual=dt.Actual\n",
    "x_predict=dt.Predicted\n",
    "y=dt.year\n",
    "w=0.4\n",
    "\n",
    "sb.set_style(style='darkgrid')\n",
    "plt.figure(figsize=(15,10))\n",
    "bar1=np.arange(len(y))\n",
    "bar2=[ i+w for i in bar1]\n",
    "\n",
    "plt.ylim(ymin=0,ymax=90)\n",
    "plt.xticks(bar1+w/2,y)\n",
    "plt.bar(bar1,x_actual,w, label='Actual')\n",
    "plt.bar(bar2,x_predict,w, label='Predicted')\n",
    "plt.legend(fontsize=20)\n",
    "plt.xlabel('Year',fontsize=20)\n",
    "plt.ylabel('WQI', fontsize=20)"
   ]
  },
  {
   "cell_type": "markdown",
   "metadata": {},
   "source": [
    "<h1> <center> Predicted vs Actual WQI (Regression Plot)  </center></h1>"
   ]
  },
  {
   "cell_type": "code",
   "execution_count": 43,
   "metadata": {
    "_uuid": "778efd068d3543a54f0f6b45c66a956e1a430468",
    "scrolled": true
   },
   "outputs": [
    {
     "data": {
      "image/png": "[encoded data removed]",
      "text/plain": [
       "<Figure size 432x288 with 1 Axes>"
      ]
     },
     "metadata": {},
     "output_type": "display_data"
    }
   ],
   "source": [
    "#plotting the actual and predicted results using regression plot\n",
    "x_axis=dt.year\n",
    "y_axis=dt.Actual\n",
    "y1_axis=dt.Predicted\n",
    "\n",
    "plt.scatter(x_axis,y_axis)\n",
    "plt.plot(x_axis,y1_axis,color='r')\n",
    "plt.title(\"linear regression\", fontsize=15)\n",
    "\n",
    "plt.show()\n"
   ]
  },
  {
   "cell_type": "code",
   "execution_count": null,
   "metadata": {},
   "outputs": [],
   "source": []
  }
 ],
 "metadata": {
  "kernelspec": {
   "display_name": "Python 3 (ipykernel)",
   "language": "python",
   "name": "python3"
  },
  "language_info": {
   "codemirror_mode": {
    "name": "ipython",
    "version": 3
   },
   "file_extension": ".py",
   "mimetype": "text/x-python",
   "name": "python",
   "nbconvert_exporter": "python",
   "pygments_lexer": "ipython3",
   "version": "3.9.7"
  }
 },
 "nbformat": 4,
 "nbformat_minor": 1
}
